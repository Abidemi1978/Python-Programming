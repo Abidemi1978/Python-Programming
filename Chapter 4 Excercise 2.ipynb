{
  "nbformat": 4,
  "nbformat_minor": 0,
  "metadata": {
    "colab": {
      "provenance": [],
      "authorship_tag": "ABX9TyN6a4lSaHkPvoajnwQvvrCA",
      "include_colab_link": true
    },
    "kernelspec": {
      "name": "python3",
      "display_name": "Python 3"
    },
    "language_info": {
      "name": "python"
    }
  },
  "cells": [
    {
      "cell_type": "markdown",
      "metadata": {
        "id": "view-in-github",
        "colab_type": "text"
      },
      "source": [
        "<a href=\"https://colab.research.google.com/github/Abidemi1978/Python-Programming/blob/main/Chapter%204%20Excercise%202.ipynb\" target=\"_parent\"><img src=\"https://colab.research.google.com/assets/colab-badge.svg\" alt=\"Open In Colab\"/></a>"
      ]
    },
    {
      "cell_type": "code",
      "execution_count": 2,
      "metadata": {
        "colab": {
          "base_uri": "https://localhost:8080/"
        },
        "id": "Ya9VNmxHTgqb",
        "outputId": "8a3e042a-32ff-474e-a67a-dcabbf67c63a"
      },
      "outputs": [
        {
          "output_type": "stream",
          "name": "stdout",
          "text": [
            "The area of a triangle is: 12.568\n"
          ]
        }
      ],
      "source": [
        "#Write a python program to calculate the area of a circle assuming that radius = 2.0\n",
        "a = 3.142*2.0*2.0\n",
        "print(\"The area of a triangle is:\", a)\n"
      ]
    }
  ]
}