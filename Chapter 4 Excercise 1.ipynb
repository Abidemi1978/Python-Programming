{
  "nbformat": 4,
  "nbformat_minor": 0,
  "metadata": {
    "colab": {
      "provenance": [],
      "authorship_tag": "ABX9TyOkZOTH3fp0ewqf/pHzhEvv",
      "include_colab_link": true
    },
    "kernelspec": {
      "name": "python3",
      "display_name": "Python 3"
    },
    "language_info": {
      "name": "python"
    }
  },
  "cells": [
    {
      "cell_type": "markdown",
      "metadata": {
        "id": "view-in-github",
        "colab_type": "text"
      },
      "source": [
        "<a href=\"https://colab.research.google.com/github/Abidemi1978/Python-Programming/blob/main/Chapter%204%20Excercise%201.ipynb\" target=\"_parent\"><img src=\"https://colab.research.google.com/assets/colab-badge.svg\" alt=\"Open In Colab\"/></a>"
      ]
    },
    {
      "cell_type": "code",
      "execution_count": 1,
      "metadata": {
        "colab": {
          "base_uri": "https://localhost:8080/"
        },
        "id": "rrYWclltSOGZ",
        "outputId": "5de68a85-ce0d-459b-b6c2-da7d3e505fc5"
      },
      "outputs": [
        {
          "output_type": "stream",
          "name": "stdout",
          "text": [
            "enter the first no: 5\n",
            "enter a second no: 6\n",
            "enter the third no: 12\n",
            "The area of the triangle is: 42255.94140625\n"
          ]
        }
      ],
      "source": [
        "#If a,b,c are 3 sides of a triangle, then s = (a+b+c)/2 and given the area = (s*(s-a) * (s-b) * (s-c) **)0.5\n",
        "a = float(input(\"enter the first no: \", ))\n",
        "b = float(input(\"enter a second no: \", ))\n",
        "c = float(input(\"enter the third no: \", ))\n",
        "\n",
        "s = (a+b+c)/2\n",
        "\n",
        "area = (s*(s-a)*(s-b)*(s-c))**2\n",
        "print(\"The area of the triangle is:\", area)\n"
      ]
    }
  ]
}