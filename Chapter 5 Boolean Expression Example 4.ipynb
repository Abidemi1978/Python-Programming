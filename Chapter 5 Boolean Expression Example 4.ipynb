{
  "nbformat": 4,
  "nbformat_minor": 0,
  "metadata": {
    "colab": {
      "provenance": [],
      "authorship_tag": "ABX9TyN5AQSsAKKcVJAYvkVJFyxV",
      "include_colab_link": true
    },
    "kernelspec": {
      "name": "python3",
      "display_name": "Python 3"
    },
    "language_info": {
      "name": "python"
    }
  },
  "cells": [
    {
      "cell_type": "markdown",
      "metadata": {
        "id": "view-in-github",
        "colab_type": "text"
      },
      "source": [
        "<a href=\"https://colab.research.google.com/github/Abidemi1978/Python-Programming/blob/main/Chapter%205%20Boolean%20Expression%20Example%204.ipynb\" target=\"_parent\"><img src=\"https://colab.research.google.com/assets/colab-badge.svg\" alt=\"Open In Colab\"/></a>"
      ]
    },
    {
      "cell_type": "code",
      "execution_count": 2,
      "metadata": {
        "colab": {
          "base_uri": "https://localhost:8080/"
        },
        "id": "eBJvheEuWVGL",
        "outputId": "8d7f3059-460b-4e43-fbcd-15a3bef1c783"
      },
      "outputs": [
        {
          "output_type": "stream",
          "name": "stdout",
          "text": [
            "Enter first number: 60\n",
            "Enter second number: 40\n",
            "Enter third number: 30\n",
            "The largest number is: 60\n"
          ]
        }
      ],
      "source": [
        "#Write a program to find the largest numbers between n1, n2, n3\n",
        "n1 = int(input(\"Enter first number: \"))\n",
        "n2 = int(input(\"Enter second number: \"))\n",
        "n3 = int(input(\"Enter third number: \"))\n",
        "\n",
        "largest = n1  # assume n1 is the largest\n",
        "\n",
        "if n2 > largest:\n",
        "    largest = n2\n",
        "\n",
        "if n3 > largest:\n",
        "    largest = n3\n",
        "\n",
        "print(\"The largest number is:\", largest)\n",
        "\n",
        "\n"
      ]
    }
  ]
}