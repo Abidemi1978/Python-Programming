{
  "nbformat": 4,
  "nbformat_minor": 0,
  "metadata": {
    "colab": {
      "provenance": [],
      "authorship_tag": "ABX9TyOqBoAea1dXDltzEp8xySuU",
      "include_colab_link": true
    },
    "kernelspec": {
      "name": "python3",
      "display_name": "Python 3"
    },
    "language_info": {
      "name": "python"
    }
  },
  "cells": [
    {
      "cell_type": "markdown",
      "metadata": {
        "id": "view-in-github",
        "colab_type": "text"
      },
      "source": [
        "<a href=\"https://colab.research.google.com/github/Abidemi1978/Python-Programming/blob/main/Chapter%203%20Excercise.ipynb\" target=\"_parent\"><img src=\"https://colab.research.google.com/assets/colab-badge.svg\" alt=\"Open In Colab\"/></a>"
      ]
    },
    {
      "cell_type": "code",
      "execution_count": 1,
      "metadata": {
        "id": "zve3pJpTFLUU",
        "colab": {
          "base_uri": "https://localhost:8080/"
        },
        "outputId": "0db9ddf7-06e8-4ef3-852e-3d054f607573"
      },
      "outputs": [
        {
          "output_type": "stream",
          "name": "stdout",
          "text": [
            "56.789\n"
          ]
        }
      ],
      "source": [
        "a =\"56.789\"\n",
        "b = float(a)\n",
        "print (b)\n",
        "\n"
      ]
    }
  ]
}