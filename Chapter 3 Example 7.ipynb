{
  "nbformat": 4,
  "nbformat_minor": 0,
  "metadata": {
    "colab": {
      "provenance": [],
      "authorship_tag": "ABX9TyNdYQg0lkdkgzjMs9E0ld2y",
      "include_colab_link": true
    },
    "kernelspec": {
      "name": "python3",
      "display_name": "Python 3"
    },
    "language_info": {
      "name": "python"
    }
  },
  "cells": [
    {
      "cell_type": "markdown",
      "metadata": {
        "id": "view-in-github",
        "colab_type": "text"
      },
      "source": [
        "<a href=\"https://colab.research.google.com/github/Abidemi1978/Python-Programming/blob/main/Chapter%203%20Example%207.ipynb\" target=\"_parent\"><img src=\"https://colab.research.google.com/assets/colab-badge.svg\" alt=\"Open In Colab\"/></a>"
      ]
    },
    {
      "cell_type": "code",
      "execution_count": 1,
      "metadata": {
        "colab": {
          "base_uri": "https://localhost:8080/"
        },
        "id": "88UUHdYzRql7",
        "outputId": "ba6706fe-d179-49df-a78f-afd567116e74"
      },
      "outputs": [
        {
          "name": "stdout",
          "output_type": "stream",
          "text": [
            "enter the first no: 50\n",
            "enter a second no: 60\n",
            "type any word: abidemi\n"
          ]
        }
      ],
      "source": [
        "a = float(input(\"enter the first no: \", ))\n",
        "b = int(input(\"enter a second no: \", ))\n",
        "c = str(input(\"type any word: \", ))\n"
      ]
    }
  ]
}