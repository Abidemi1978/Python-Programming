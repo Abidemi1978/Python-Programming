{
  "nbformat": 4,
  "nbformat_minor": 0,
  "metadata": {
    "colab": {
      "provenance": [],
      "authorship_tag": "ABX9TyP9dD7RrohMM0Ba0yJUBCKq",
      "include_colab_link": true
    },
    "kernelspec": {
      "name": "python3",
      "display_name": "Python 3"
    },
    "language_info": {
      "name": "python"
    }
  },
  "cells": [
    {
      "cell_type": "markdown",
      "metadata": {
        "id": "view-in-github",
        "colab_type": "text"
      },
      "source": [
        "<a href=\"https://colab.research.google.com/github/Abidemi1978/Python-Programming/blob/main/Copy_of_Assignment_1.ipynb\" target=\"_parent\"><img src=\"https://colab.research.google.com/assets/colab-badge.svg\" alt=\"Open In Colab\"/></a>"
      ]
    },
    {
      "cell_type": "code",
      "execution_count": null,
      "metadata": {
        "colab": {
          "base_uri": "https://localhost:8080/"
        },
        "id": "5kwCA21ZEpTj",
        "outputId": "403deaa4-0096-4892-b113-f036ca63ca94"
      },
      "outputs": [
        {
          "output_type": "stream",
          "name": "stdout",
          "text": [
            "Enter the first number:1\n",
            "Enter the second number:5\n",
            "Enter the third number:2\n",
            "the largest number is: 5.0\n"
          ]
        }
      ],
      "source": [
        "n1=float(input(\"Enter the first number:\"))\n",
        "n2=float(input(\"Enter the second number:\"))\n",
        "n3=float(input(\"Enter the third number:\"))\n",
        "if n1>n2 and n1>n3:\n",
        "    print(\"the largest number is:\", n1)\n",
        "elif n2>n1 and n2>n3:\n",
        "    print(\"the largest number is:\", n2)\n",
        "else:\n",
        "    print(\"the largest number is :\",n3)"
      ]
    }
  ]
}